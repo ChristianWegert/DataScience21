{
 "cells": [
  {
   "cell_type": "markdown",
   "metadata": {},
   "source": [
    "# Block 6 Exercise 2: finding the best parameters for predicting the fare of taxi rides\n",
    "\n",
    "# By Christian Wegert\n",
    "\n",
    "We return to our Random Forest Regression and want to automatically optimize all free parameters ..."
   ]
  },
  {
   "cell_type": "code",
   "execution_count": 1,
   "metadata": {},
   "outputs": [],
   "source": [
    "import pandas as pd\n",
    "import numpy as np\n",
    "import folium\n",
    "from sklearn.model_selection import train_test_split"
   ]
  },
  {
   "cell_type": "code",
   "execution_count": 2,
   "metadata": {},
   "outputs": [],
   "source": [
    "# we load the data we have saved after wrangling and pre-processing in block I\n",
    "X=pd.read_csv('../../DATA/train_cleaned.csv')\n",
    "drop_columns=['Unnamed: 0','Unnamed: 0.1','Unnamed: 0.1.1','key','pickup_datetime','pickup_date','pickup_latitude_round3','pickup_longitude_round3','dropoff_latitude_round3','dropoff_longitude_round3']\n",
    "X=X.drop(drop_columns,axis=1)\n",
    "X=pd.get_dummies(X)# one hot coding\n",
    "#generate labels\n",
    "y=X['fare_amount']\n",
    "X=X.drop(['fare_amount'],axis=1)"
   ]
  },
  {
   "cell_type": "code",
   "execution_count": 3,
   "metadata": {},
   "outputs": [
    {
     "data": {
      "text/html": [
       "<div>\n",
       "<style scoped>\n",
       "    .dataframe tbody tr th:only-of-type {\n",
       "        vertical-align: middle;\n",
       "    }\n",
       "\n",
       "    .dataframe tbody tr th {\n",
       "        vertical-align: top;\n",
       "    }\n",
       "\n",
       "    .dataframe thead th {\n",
       "        text-align: right;\n",
       "    }\n",
       "</style>\n",
       "<table border=\"1\" class=\"dataframe\">\n",
       "  <thead>\n",
       "    <tr style=\"text-align: right;\">\n",
       "      <th></th>\n",
       "      <th>pickup_longitude</th>\n",
       "      <th>pickup_latitude</th>\n",
       "      <th>dropoff_longitude</th>\n",
       "      <th>dropoff_latitude</th>\n",
       "      <th>passenger_count</th>\n",
       "      <th>pickup_day</th>\n",
       "      <th>pickup_hour</th>\n",
       "      <th>pickup_day_of_week</th>\n",
       "      <th>pickup_month</th>\n",
       "      <th>pickup_year</th>\n",
       "      <th>...</th>\n",
       "      <th>pickup_borough_manhattan</th>\n",
       "      <th>pickup_borough_others</th>\n",
       "      <th>pickup_borough_queens</th>\n",
       "      <th>pickup_borough_staten_island</th>\n",
       "      <th>dropoff_borough_bronx</th>\n",
       "      <th>dropoff_borough_brooklyn</th>\n",
       "      <th>dropoff_borough_manhattan</th>\n",
       "      <th>dropoff_borough_others</th>\n",
       "      <th>dropoff_borough_queens</th>\n",
       "      <th>dropoff_borough_staten_island</th>\n",
       "    </tr>\n",
       "  </thead>\n",
       "  <tbody>\n",
       "    <tr>\n",
       "      <th>0</th>\n",
       "      <td>-73.844311</td>\n",
       "      <td>40.721319</td>\n",
       "      <td>-73.841610</td>\n",
       "      <td>40.712278</td>\n",
       "      <td>1</td>\n",
       "      <td>15</td>\n",
       "      <td>17</td>\n",
       "      <td>1</td>\n",
       "      <td>6</td>\n",
       "      <td>2009</td>\n",
       "      <td>...</td>\n",
       "      <td>0</td>\n",
       "      <td>0</td>\n",
       "      <td>1</td>\n",
       "      <td>0</td>\n",
       "      <td>0</td>\n",
       "      <td>0</td>\n",
       "      <td>0</td>\n",
       "      <td>0</td>\n",
       "      <td>1</td>\n",
       "      <td>0</td>\n",
       "    </tr>\n",
       "    <tr>\n",
       "      <th>1</th>\n",
       "      <td>-74.016048</td>\n",
       "      <td>40.711303</td>\n",
       "      <td>-73.979268</td>\n",
       "      <td>40.782004</td>\n",
       "      <td>1</td>\n",
       "      <td>5</td>\n",
       "      <td>16</td>\n",
       "      <td>2</td>\n",
       "      <td>1</td>\n",
       "      <td>2010</td>\n",
       "      <td>...</td>\n",
       "      <td>1</td>\n",
       "      <td>0</td>\n",
       "      <td>0</td>\n",
       "      <td>0</td>\n",
       "      <td>0</td>\n",
       "      <td>0</td>\n",
       "      <td>1</td>\n",
       "      <td>0</td>\n",
       "      <td>0</td>\n",
       "      <td>0</td>\n",
       "    </tr>\n",
       "    <tr>\n",
       "      <th>2</th>\n",
       "      <td>-73.982738</td>\n",
       "      <td>40.761270</td>\n",
       "      <td>-73.991242</td>\n",
       "      <td>40.750562</td>\n",
       "      <td>2</td>\n",
       "      <td>18</td>\n",
       "      <td>0</td>\n",
       "      <td>4</td>\n",
       "      <td>8</td>\n",
       "      <td>2011</td>\n",
       "      <td>...</td>\n",
       "      <td>1</td>\n",
       "      <td>0</td>\n",
       "      <td>0</td>\n",
       "      <td>0</td>\n",
       "      <td>0</td>\n",
       "      <td>0</td>\n",
       "      <td>1</td>\n",
       "      <td>0</td>\n",
       "      <td>0</td>\n",
       "      <td>0</td>\n",
       "    </tr>\n",
       "    <tr>\n",
       "      <th>3</th>\n",
       "      <td>-73.987130</td>\n",
       "      <td>40.733143</td>\n",
       "      <td>-73.991567</td>\n",
       "      <td>40.758092</td>\n",
       "      <td>1</td>\n",
       "      <td>21</td>\n",
       "      <td>4</td>\n",
       "      <td>6</td>\n",
       "      <td>4</td>\n",
       "      <td>2012</td>\n",
       "      <td>...</td>\n",
       "      <td>1</td>\n",
       "      <td>0</td>\n",
       "      <td>0</td>\n",
       "      <td>0</td>\n",
       "      <td>0</td>\n",
       "      <td>0</td>\n",
       "      <td>1</td>\n",
       "      <td>0</td>\n",
       "      <td>0</td>\n",
       "      <td>0</td>\n",
       "    </tr>\n",
       "    <tr>\n",
       "      <th>4</th>\n",
       "      <td>-73.968095</td>\n",
       "      <td>40.768008</td>\n",
       "      <td>-73.956655</td>\n",
       "      <td>40.783762</td>\n",
       "      <td>1</td>\n",
       "      <td>9</td>\n",
       "      <td>7</td>\n",
       "      <td>2</td>\n",
       "      <td>3</td>\n",
       "      <td>2010</td>\n",
       "      <td>...</td>\n",
       "      <td>1</td>\n",
       "      <td>0</td>\n",
       "      <td>0</td>\n",
       "      <td>0</td>\n",
       "      <td>0</td>\n",
       "      <td>0</td>\n",
       "      <td>1</td>\n",
       "      <td>0</td>\n",
       "      <td>0</td>\n",
       "      <td>0</td>\n",
       "    </tr>\n",
       "  </tbody>\n",
       "</table>\n",
       "<p>5 rows × 31 columns</p>\n",
       "</div>"
      ],
      "text/plain": [
       "   pickup_longitude  pickup_latitude  dropoff_longitude  dropoff_latitude  \\\n",
       "0        -73.844311        40.721319         -73.841610         40.712278   \n",
       "1        -74.016048        40.711303         -73.979268         40.782004   \n",
       "2        -73.982738        40.761270         -73.991242         40.750562   \n",
       "3        -73.987130        40.733143         -73.991567         40.758092   \n",
       "4        -73.968095        40.768008         -73.956655         40.783762   \n",
       "\n",
       "   passenger_count  pickup_day  pickup_hour  pickup_day_of_week  pickup_month  \\\n",
       "0                1          15           17                   1             6   \n",
       "1                1           5           16                   2             1   \n",
       "2                2          18            0                   4             8   \n",
       "3                1          21            4                   6             4   \n",
       "4                1           9            7                   2             3   \n",
       "\n",
       "   pickup_year  ...  pickup_borough_manhattan  pickup_borough_others  \\\n",
       "0         2009  ...                         0                      0   \n",
       "1         2010  ...                         1                      0   \n",
       "2         2011  ...                         1                      0   \n",
       "3         2012  ...                         1                      0   \n",
       "4         2010  ...                         1                      0   \n",
       "\n",
       "   pickup_borough_queens  pickup_borough_staten_island  dropoff_borough_bronx  \\\n",
       "0                      1                             0                      0   \n",
       "1                      0                             0                      0   \n",
       "2                      0                             0                      0   \n",
       "3                      0                             0                      0   \n",
       "4                      0                             0                      0   \n",
       "\n",
       "   dropoff_borough_brooklyn  dropoff_borough_manhattan  \\\n",
       "0                         0                          0   \n",
       "1                         0                          1   \n",
       "2                         0                          1   \n",
       "3                         0                          1   \n",
       "4                         0                          1   \n",
       "\n",
       "   dropoff_borough_others  dropoff_borough_queens  \\\n",
       "0                       0                       1   \n",
       "1                       0                       0   \n",
       "2                       0                       0   \n",
       "3                       0                       0   \n",
       "4                       0                       0   \n",
       "\n",
       "   dropoff_borough_staten_island  \n",
       "0                              0  \n",
       "1                              0  \n",
       "2                              0  \n",
       "3                              0  \n",
       "4                              0  \n",
       "\n",
       "[5 rows x 31 columns]"
      ]
     },
     "execution_count": 3,
     "metadata": {},
     "output_type": "execute_result"
    }
   ],
   "source": [
    "X.head()"
   ]
  },
  {
   "cell_type": "code",
   "execution_count": 4,
   "metadata": {},
   "outputs": [
    {
     "data": {
      "text/plain": [
       "0     4.5\n",
       "1    16.9\n",
       "2     5.7\n",
       "3     7.7\n",
       "4     5.3\n",
       "Name: fare_amount, dtype: float64"
      ]
     },
     "execution_count": 4,
     "metadata": {},
     "output_type": "execute_result"
    }
   ],
   "source": [
    "y.head()"
   ]
  },
  {
   "cell_type": "markdown",
   "metadata": {},
   "source": [
    "### Scikit Optimize\n",
    "Scikit Optimize (https://scikit-optimize.github.io/stable/index.html) is a AutoML toolbox wrapped around Scikit-Learn. It allows us to use state-of-the-art automatic hyper-parameter optimization on top of our learning algorithms.   \n",
    "\n"
   ]
  },
  {
   "cell_type": "code",
   "execution_count": 5,
   "metadata": {},
   "outputs": [
    {
     "name": "stdout",
     "output_type": "stream",
     "text": [
      "Requirement already satisfied: scikit-optimize in c:\\users\\chris\\anaconda3\\lib\\site-packages (0.8.1)\n",
      "Requirement already satisfied: joblib>=0.11 in c:\\users\\chris\\anaconda3\\lib\\site-packages (from scikit-optimize) (0.17.0)\n",
      "Requirement already satisfied: numpy>=1.13.3 in c:\\users\\chris\\anaconda3\\lib\\site-packages (from scikit-optimize) (1.19.2)\n",
      "Requirement already satisfied: scipy>=0.19.1 in c:\\users\\chris\\anaconda3\\lib\\site-packages (from scikit-optimize) (1.5.2)\n",
      "Requirement already satisfied: pyaml>=16.9 in c:\\users\\chris\\anaconda3\\lib\\site-packages (from scikit-optimize) (20.4.0)\n",
      "Requirement already satisfied: scikit-learn>=0.20.0 in c:\\users\\chris\\anaconda3\\lib\\site-packages (from scikit-optimize) (0.23.2)\n",
      "Requirement already satisfied: PyYAML in c:\\users\\chris\\anaconda3\\lib\\site-packages (from pyaml>=16.9->scikit-optimize) (5.3.1)\n",
      "Requirement already satisfied: threadpoolctl>=2.0.0 in c:\\users\\chris\\anaconda3\\lib\\site-packages (from scikit-learn>=0.20.0->scikit-optimize) (2.1.0)\n"
     ]
    }
   ],
   "source": [
    "# install \n",
    "!pip install scikit-optimize"
   ]
  },
  {
   "cell_type": "markdown",
   "metadata": {},
   "source": [
    "### E 2.1 Bayesian Optimization of a Random Forest Regression Model\n",
    "use Bayesian Optimization with Cross-Validation (https://scikit-optimize.github.io/stable/modules/generated/skopt.BayesSearchCV.html#skopt.BayesSearchCV) to find the best regression model. Compare\n",
    "* linear regression (https://scikit-learn.org/stable/modules/generated/sklearn.linear_model.LinearRegression.html#sklearn.linear_model.LinearRegression) \n",
    "* Random Forest regression (https://scikit-learn.org/stable/modules/generated/sklearn.ensemble.RandomForestRegressor.html#sklearn.ensemble.RandomForestRegressor)\n",
    "* and SVM regression (https://scikit-learn.org/stable/modules/generated/sklearn.svm.SVR.html#sklearn.svm.SVR)\n",
    "\n",
    "NOTES: this can become quite compute intensive! Hence,\n",
    "* use a smaller subset of the training data to run the experiments \n",
    "* think about the range of your parameters (e.g. larger number of trees in RF or high C-values in SMV will make models expensive)\n",
    "* optimize only the following parameters per model type:\n",
    "    * linear: no parameters to optimize\n",
    "    * RF: #trees and depth\n",
    "    * SVM: C and gamma (use RBF kernel)\n",
    "* parallelize -> n_jobs\n",
    "* use CoLab to rum the job for up to 12h \n"
   ]
  },
  {
   "cell_type": "code",
   "execution_count": 6,
   "metadata": {},
   "outputs": [],
   "source": [
    "X_train=X[X['pickup_year']<2015]\n",
    "y_train=y[X['pickup_year']<2015]\n",
    "X_test=X[X['pickup_year']==2015]\n",
    "y_test=y[X['pickup_year']==2015]"
   ]
  },
  {
   "cell_type": "code",
   "execution_count": 7,
   "metadata": {},
   "outputs": [
    {
     "name": "stdout",
     "output_type": "stream",
     "text": [
      "(372110, 31) (372110,) (27890, 31) (27890,)\n"
     ]
    }
   ],
   "source": [
    "print(X_train.shape,y_train.shape,X_test.shape,y_test.shape)"
   ]
  },
  {
   "cell_type": "code",
   "execution_count": 8,
   "metadata": {},
   "outputs": [],
   "source": [
    "y_train=np.array(y_train)\n",
    "y_test=np.array(y_test)\n",
    "X_train=np.array(X_train)\n",
    "X_test=np.array(X_test)"
   ]
  },
  {
   "cell_type": "code",
   "execution_count": 9,
   "metadata": {},
   "outputs": [],
   "source": [
    "from sklearn import svm\n",
    "from sklearn.linear_model import LinearRegression\n",
    "from sklearn.ensemble import RandomForestRegressor"
   ]
  },
  {
   "cell_type": "code",
   "execution_count": 10,
   "metadata": {},
   "outputs": [],
   "source": [
    "regr=svm.SVR()\n",
    "linear=LinearRegression()\n",
    "rf=RandomForestRegressor()"
   ]
  },
  {
   "cell_type": "markdown",
   "metadata": {},
   "source": [
    "few Tests:"
   ]
  },
  {
   "cell_type": "code",
   "execution_count": 11,
   "metadata": {},
   "outputs": [
    {
     "name": "stdout",
     "output_type": "stream",
     "text": [
      "Wall time: 18 ms\n"
     ]
    },
    {
     "data": {
      "text/plain": [
       "LinearRegression()"
      ]
     },
     "execution_count": 11,
     "metadata": {},
     "output_type": "execute_result"
    }
   ],
   "source": [
    "%%time\n",
    "linear.fit(X_train[0:25000],y_train[0:25000]) "
   ]
  },
  {
   "cell_type": "code",
   "execution_count": 12,
   "metadata": {},
   "outputs": [
    {
     "name": "stdout",
     "output_type": "stream",
     "text": [
      "Wall time: 23.4 s\n"
     ]
    },
    {
     "data": {
      "text/plain": [
       "SVR()"
      ]
     },
     "execution_count": 12,
     "metadata": {},
     "output_type": "execute_result"
    }
   ],
   "source": [
    "%%time\n",
    "regr.fit(X_train[0:25000],y_train[0:25000])"
   ]
  },
  {
   "cell_type": "code",
   "execution_count": 13,
   "metadata": {},
   "outputs": [
    {
     "name": "stdout",
     "output_type": "stream",
     "text": [
      "Wall time: 16.8 s\n"
     ]
    },
    {
     "data": {
      "text/plain": [
       "RandomForestRegressor()"
      ]
     },
     "execution_count": 13,
     "metadata": {},
     "output_type": "execute_result"
    }
   ],
   "source": [
    "%%time\n",
    "rf.fit(X_train[0:25000],y_train[0:25000])"
   ]
  },
  {
   "cell_type": "code",
   "execution_count": null,
   "metadata": {},
   "outputs": [],
   "source": [
    "%%time\n",
    "\n",
    "from skopt import BayesSearchCV\n",
    "from skopt.space import Real, Categorical, Integer\n",
    "from sklearn.pipeline import Pipeline\n",
    "\n",
    "\n",
    "pipe = Pipeline([\n",
    "    ('model', SVC())])\n",
    "\n",
    "svc_search = {\n",
    "    'model': Categorical([svm.SVR()]),\n",
    "    'model__C': Real(1e-6, 1e+6),\n",
    "    'model__gamma': Real(1e-6, 1e+1, prior='log-uniform'),\n",
    "    'model__kernel': Categorical(['rbf']),\n",
    "}\n",
    "\n",
    "random_forest_search = {\n",
    "    'model': Categorical([RandomForestRegressor()]),\n",
    "    'model__n_estimators': (1,5000),\n",
    "    'model__max_depth': (1,100),\n",
    "}\n",
    "\n",
    "linear_search = {\n",
    "    'model': Categorical([LinearRegression()]),\n",
    "}\n",
    "\n",
    "opt = BayesSearchCV(pipe,\n",
    "    [(svc_search), (random_forest_search), (linear_search)],\n",
    "    cv=3,\n",
    "    n_jobs=-1                \n",
    ")\n",
    "\n",
    "opt.fit(X_train[0:100], y_train[0:100])"
   ]
  },
  {
   "cell_type": "code",
   "execution_count": null,
   "metadata": {},
   "outputs": [],
   "source": [
    "print(\"val. score: %s\" % opt.best_score_)\n",
    "print(\"test score: %s\" % opt.score(X_test, y_test))\n",
    "print(\"best params: %s\" % str(opt.best_params_))"
   ]
  },
  {
   "cell_type": "markdown",
   "metadata": {},
   "source": [
    "# First Try Problem (3in1 optimization):\n",
    "MemoryError: could not allocate 4784128 bytes\n",
    "\n",
    "(after 2-3 hours of computing)"
   ]
  },
  {
   "cell_type": "markdown",
   "metadata": {},
   "source": [
    "# Secound Try Problem (3in1 optimization):\n",
    "ValueError: array must not contain infs or NaNs (maybe caused of linear_search, 2-in-1 search without linear works fine)"
   ]
  },
  {
   "cell_type": "markdown",
   "metadata": {},
   "source": [
    "# New Method: Make two times BayesSearchCV and compare the results!"
   ]
  },
  {
   "cell_type": "code",
   "execution_count": null,
   "metadata": {},
   "outputs": [],
   "source": [
    "%%time\n",
    "from skopt import BayesSearchCV\n",
    "opt_SVM = BayesSearchCV(\n",
    "    svm.SVR(),\n",
    "    {\n",
    "        'C': (1e-6, 1e+6, 'log-uniform'),\n",
    "        'gamma': (1e-6, 1e+1, 'log-uniform'),\n",
    "        'degree': (1, 8),  \n",
    "        'kernel': ['rbf'], \n",
    "    },\n",
    "    n_iter=32,\n",
    "    cv=3,\n",
    "    n_jobs=-1\n",
    ")\n",
    "\n",
    "opt_SVM.fit(X_train[0:25000], y_train[0:25000])"
   ]
  },
  {
   "cell_type": "code",
   "execution_count": null,
   "metadata": {},
   "outputs": [],
   "source": [
    "print(\"val. score: %s\" % opt_SVM.best_score_)\n",
    "print(\"test score: %s\" % opt_SVM.score(X_test, y_test))\n",
    "print(\"best params: %s\" % str(opt_SVM.best_params_))"
   ]
  },
  {
   "cell_type": "code",
   "execution_count": null,
   "metadata": {},
   "outputs": [],
   "source": [
    "%%time\n",
    "opt_RF = BayesSearchCV(\n",
    "    RandomForestRegressor(),\n",
    "    {\n",
    "        'n_estimators': (1,5000),\n",
    "        'max_depth': (1,100), \n",
    "    },\n",
    "    n_iter=32,\n",
    "    cv=3,\n",
    "    n_jobs=-1\n",
    ")\n",
    "\n",
    "opt_RF.fit(X_train[0:25000], y_train[0:25000])"
   ]
  },
  {
   "cell_type": "code",
   "execution_count": null,
   "metadata": {},
   "outputs": [],
   "source": [
    "print(\"val. score: %s\" % opt_RF.best_score_)\n",
    "print(\"test score: %s\" % opt_RF.score(X_test, y_test))\n",
    "print(\"best params: %s\" % str(opt_RF.best_params_))"
   ]
  },
  {
   "cell_type": "markdown",
   "metadata": {},
   "source": [
    "# Third Try Problem (2in1 optimization): After ~20 hours no result because of too expensive Parameters\n"
   ]
  },
  {
   "cell_type": "markdown",
   "metadata": {},
   "source": [
    "Repeat with a very very low set of data to show the basic procedure:"
   ]
  },
  {
   "cell_type": "code",
   "execution_count": 14,
   "metadata": {},
   "outputs": [
    {
     "name": "stdout",
     "output_type": "stream",
     "text": [
      "val. score: 0.2796673378405467\n",
      "test score: 0.5034948733965661\n",
      "best params: OrderedDict([('C', 22.93037014403077), ('gamma', 0.0018194918088105397), ('kernel', 'rbf')])\n",
      "Wall time: 17.4 s\n"
     ]
    }
   ],
   "source": [
    "%%time\n",
    "from skopt import BayesSearchCV\n",
    "opt_SVM = BayesSearchCV(\n",
    "    svm.SVR(),\n",
    "    {\n",
    "        'C': (1e-6, 1e+6, 'log-uniform'),\n",
    "        'gamma': (1e-6, 1e+1, 'log-uniform'),  \n",
    "        'kernel': ['rbf'], \n",
    "    },\n",
    "    n_iter=32,\n",
    "    cv=3,\n",
    "    n_jobs=-1\n",
    ")\n",
    "\n",
    "opt_SVM.fit(X_train[0:100], y_train[0:100])\n",
    "\n",
    "print(\"val. score: %s\" % opt_SVM.best_score_)\n",
    "print(\"test score: %s\" % opt_SVM.score(X_test, y_test))\n",
    "print(\"best params: %s\" % str(opt_SVM.best_params_))"
   ]
  },
  {
   "cell_type": "code",
   "execution_count": 15,
   "metadata": {},
   "outputs": [
    {
     "name": "stderr",
     "output_type": "stream",
     "text": [
      "C:\\Users\\Chris\\anaconda3\\lib\\site-packages\\skopt\\optimizer\\optimizer.py:449: UserWarning: The objective has been evaluated at this point before.\n",
      "  warnings.warn(\"The objective has been evaluated \"\n"
     ]
    },
    {
     "name": "stdout",
     "output_type": "stream",
     "text": [
      "val. score: 0.454184847416059\n",
      "test score: 0.5569221850016266\n",
      "best params: OrderedDict([('max_depth', 99), ('n_estimators', 462)])\n",
      "Wall time: 1min 31s\n"
     ]
    }
   ],
   "source": [
    "%%time\n",
    "opt_RF = BayesSearchCV(\n",
    "    RandomForestRegressor(),\n",
    "    {\n",
    "        'n_estimators': (1,5000),\n",
    "        'max_depth': (1,100), \n",
    "    },\n",
    "    n_iter=32,\n",
    "    cv=3,\n",
    "    n_jobs=-1\n",
    ")\n",
    "\n",
    "opt_RF.fit(X_train[0:100], y_train[0:100])\n",
    "\n",
    "print(\"val. score: %s\" % opt_RF.best_score_)\n",
    "print(\"test score: %s\" % opt_RF.score(X_test, y_test))\n",
    "print(\"best params: %s\" % str(opt_RF.best_params_))"
   ]
  },
  {
   "cell_type": "code",
   "execution_count": 20,
   "metadata": {},
   "outputs": [],
   "source": [
    "regr_optimize=svm.SVR(C=22.93037014403077, gamma=0.0018194918088105397, kernel='rbf')\n",
    "linear_optimize=LinearRegression()\n",
    "rf_optimize=RandomForestRegressor(n_estimators=462 ,max_depth=99)"
   ]
  },
  {
   "cell_type": "code",
   "execution_count": 21,
   "metadata": {},
   "outputs": [
    {
     "name": "stdout",
     "output_type": "stream",
     "text": [
      "Wall time: 1min 39s\n"
     ]
    },
    {
     "data": {
      "text/plain": [
       "RandomForestRegressor(max_depth=99, n_estimators=462)"
      ]
     },
     "execution_count": 21,
     "metadata": {},
     "output_type": "execute_result"
    }
   ],
   "source": [
    "%%time\n",
    "linear_optimize.fit(X_train[0:25000],y_train[0:25000]) \n",
    "regr_optimize.fit(X_train[0:25000],y_train[0:25000])\n",
    "rf_optimize.fit(X_train[0:25000],y_train[0:25000])"
   ]
  },
  {
   "cell_type": "code",
   "execution_count": 27,
   "metadata": {},
   "outputs": [
    {
     "name": "stdout",
     "output_type": "stream",
     "text": [
      "rf score:\n",
      "26.707272821415568\n",
      "rf_optimize score:\n",
      "26.434845630505222\n",
      "linear score:\n",
      "32.839326405454266\n",
      "regr score:\n",
      "151.19669793706905\n",
      "regr_optimize score:\n",
      "28.564977267967507\n"
     ]
    }
   ],
   "source": [
    "\n",
    "from sklearn.metrics import mean_squared_error\n",
    "print(\"rf score:\")\n",
    "print(mean_squared_error(y_test,rf.predict(X_test)))\n",
    "print(\"rf_optimize score:\")\n",
    "print(mean_squared_error(y_test,rf_optimize.predict(X_test)))\n",
    "print(\"linear score:\")\n",
    "print(mean_squared_error(y_test,linear.predict(X_test)))\n",
    "print(\"regr score:\")\n",
    "print(mean_squared_error(y_test,regr.predict(X_test)))\n",
    "print(\"regr_optimize score:\")\n",
    "print(mean_squared_error(y_test,regr_optimize.predict(X_test)))"
   ]
  },
  {
   "cell_type": "code",
   "execution_count": null,
   "metadata": {},
   "outputs": [],
   "source": []
  }
 ],
 "metadata": {
  "kernelspec": {
   "display_name": "Python 3",
   "language": "python",
   "name": "python3"
  },
  "language_info": {
   "codemirror_mode": {
    "name": "ipython",
    "version": 3
   },
   "file_extension": ".py",
   "mimetype": "text/x-python",
   "name": "python",
   "nbconvert_exporter": "python",
   "pygments_lexer": "ipython3",
   "version": "3.8.5"
  }
 },
 "nbformat": 4,
 "nbformat_minor": 4
}
